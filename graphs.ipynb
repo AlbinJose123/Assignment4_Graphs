{
 "cells": [
  {
   "cell_type": "code",
   "execution_count": 26,
   "metadata": {},
   "outputs": [],
   "source": [
    "#Breadth First Traversal for a Graph:"
   ]
  },
  {
   "cell_type": "code",
   "execution_count": 27,
   "metadata": {},
   "outputs": [
    {
     "name": "stdout",
     "output_type": "stream",
     "text": [
      "Breadth First Traversal:\n",
      "0 1 2 3 4 5 "
     ]
    }
   ],
   "source": [
    "from collections import deque\n",
    "\n",
    "class Graph:\n",
    "    def __init__(self, vertices):\n",
    "        self.vertices = vertices\n",
    "        self.adjacency_list = [[] for _ in range(vertices)]\n",
    "    \n",
    "    def add_edge(self, source, destination):\n",
    "        self.adjacency_list[source].append(destination)\n",
    "    \n",
    "    def breadth_first_traversal(self, start_vertex):\n",
    "        visited = [False] * self.vertices\n",
    "        queue = deque()\n",
    "        queue.append(start_vertex)\n",
    "        visited[start_vertex] = True\n",
    "\n",
    "        while queue:\n",
    "            current_vertex = queue.popleft()\n",
    "            print(current_vertex, end=\" \")\n",
    "\n",
    "            for adjacent_vertex in self.adjacency_list[current_vertex]:\n",
    "                if not visited[adjacent_vertex]:\n",
    "                    queue.append(adjacent_vertex)\n",
    "                    visited[adjacent_vertex] = True\n",
    "\n",
    "# Testing the breadth first traversal for a graph\n",
    "graph = Graph(6)\n",
    "graph.add_edge(0, 1)\n",
    "graph.add_edge(0, 2)\n",
    "graph.add_edge(1, 3)\n",
    "graph.add_edge(2, 4)\n",
    "graph.add_edge(2, 5)\n",
    "\n",
    "print(\"Breadth First Traversal:\")\n",
    "graph.breadth_first_traversal(0)\n"
   ]
  },
  {
   "attachments": {},
   "cell_type": "markdown",
   "metadata": {},
   "source": [
    "#Depth First Traversal for a Graph:"
   ]
  },
  {
   "cell_type": "code",
   "execution_count": 28,
   "metadata": {},
   "outputs": [
    {
     "name": "stdout",
     "output_type": "stream",
     "text": [
      "Depth First Traversal:\n",
      "0 1 3 2 4 5 "
     ]
    }
   ],
   "source": [
    "class Graph:\n",
    "    def __init__(self, vertices):\n",
    "        self.vertices = vertices\n",
    "        self.adjacency_list = [[] for _ in range(vertices)]\n",
    "    \n",
    "    def add_edge(self, source, destination):\n",
    "        self.adjacency_list[source].append(destination)\n",
    "    \n",
    "    def depth_first_traversal(self, start_vertex):\n",
    "        visited = [False] * self.vertices\n",
    "        self._depth_first_traversal_recursive(start_vertex, visited)\n",
    "\n",
    "    def _depth_first_traversal_recursive(self, current_vertex, visited):\n",
    "        visited[current_vertex] = True\n",
    "        print(current_vertex, end=\" \")\n",
    "\n",
    "        for adjacent_vertex in self.adjacency_list[current_vertex]:\n",
    "            if not visited[adjacent_vertex]:\n",
    "                self._depth_first_traversal_recursive(adjacent_vertex, visited)\n",
    "\n",
    "# Testing the depth first traversal for a graph\n",
    "graph = Graph(6)\n",
    "graph.add_edge(0, 1)\n",
    "graph.add_edge(0, 2)\n",
    "graph.add_edge(1, 3)\n",
    "graph.add_edge(2, 4)\n",
    "graph.add_edge(2, 5)\n",
    "\n",
    "print(\"Depth First Traversal:\")\n",
    "graph.depth_first_traversal(0)\n"
   ]
  },
  {
   "attachments": {},
   "cell_type": "markdown",
   "metadata": {},
   "source": [
    "#Count the number of nodes at a given level in a tree using BFS:"
   ]
  },
  {
   "cell_type": "code",
   "execution_count": 29,
   "metadata": {},
   "outputs": [
    {
     "name": "stdout",
     "output_type": "stream",
     "text": [
      "Number of nodes at level 2 : 4\n"
     ]
    }
   ],
   "source": [
    "from collections import deque\n",
    "\n",
    "class Node:\n",
    "    def __init__(self, data):\n",
    "        self.data = data\n",
    "        self.left = None\n",
    "        self.right = None\n",
    "\n",
    "def count_nodes_at_level(root, level):\n",
    "    if root is None:\n",
    "        return 0\n",
    "    \n",
    "    queue = deque()\n",
    "    queue.append(root)\n",
    "    current_level = 0\n",
    "    node_count = 0\n",
    "\n",
    "    while queue:\n",
    "        level_size = len(queue)\n",
    "\n",
    "        if current_level == level:\n",
    "            node_count = level_size\n",
    "            break\n",
    "        \n",
    "        for _ in range(level_size):\n",
    "            node = queue.popleft()\n",
    "\n",
    "            if node.left:\n",
    "                queue.append(node.left)\n",
    "            if node.right:\n",
    "                queue.append(node.right)\n",
    "\n",
    "        current_level += 1\n",
    "    \n",
    "    return node_count\n",
    "\n",
    "# Testing count nodes at a given level\n",
    "root = Node(1)\n",
    "root.left = Node(2)\n",
    "root.right = Node(3)\n",
    "root.left.left = Node(4)\n",
    "root.left.right = Node(5)\n",
    "root.right.left = Node(6)\n",
    "root.right.right = Node(7)\n",
    "\n",
    "level = 2\n",
    "count = count_nodes_at_level(root, level)\n",
    "print(\"Number of nodes at level\", level, \":\", count)\n",
    " "
   ]
  },
  {
   "attachments": {},
   "cell_type": "markdown",
   "metadata": {},
   "source": [
    "#COUNT NO OF TREES IN FOREST"
   ]
  },
  {
   "cell_type": "code",
   "execution_count": 30,
   "metadata": {},
   "outputs": [
    {
     "name": "stdout",
     "output_type": "stream",
     "text": [
      "Number of trees in the forest: 0\n"
     ]
    }
   ],
   "source": [
    "class Graph:\n",
    "    def __init__(self, vertices):\n",
    "        self.vertices = vertices\n",
    "        self.adjacency_list = [[] for _ in range(vertices)]\n",
    "    \n",
    "    def add_edge(self, source, destination):\n",
    "        self.adjacency_list[source].append(destination)\n",
    "    \n",
    "    def count_trees_in_forest(self):\n",
    "        visited = [False] * self.vertices\n",
    "        count = 0\n",
    "\n",
    "        for vertex in range(self.vertices):\n",
    "            if not visited[vertex]:\n",
    "                if self._is_tree(vertex, visited):\n",
    "                    count += 1\n",
    "        \n",
    "        return count\n",
    "    \n",
    "    def _is_tree(self, current_vertex, visited):\n",
    "        visited[current_vertex] = True\n",
    "\n",
    "        for adjacent_vertex in self.adjacency_list[current_vertex]:\n",
    "            if not visited[adjacent_vertex]:\n",
    "                if self._is_tree(adjacent_vertex, visited):\n",
    "                    return True\n",
    "        \n",
    "        return False\n",
    "\n",
    "# Testing count number of trees in a forest\n",
    "graph = Graph(5)\n",
    "graph.add_edge(0, 1)\n",
    "graph.add_edge(0, 2)\n",
    "graph.add_edge(3, 4)\n",
    "\n",
    "tree_count = graph.count_trees_in_forest()\n",
    "print(\"Number of trees in the forest:\", tree_count)\n"
   ]
  },
  {
   "attachments": {},
   "cell_type": "markdown",
   "metadata": {},
   "source": [
    "#Detect Cycle in a Directed Graph:"
   ]
  },
  {
   "cell_type": "code",
   "execution_count": 31,
   "metadata": {},
   "outputs": [
    {
     "name": "stdout",
     "output_type": "stream",
     "text": [
      "The graph contains a cycle.\n"
     ]
    }
   ],
   "source": [
    "class Graph:\n",
    "    def __init__(self, vertices):\n",
    "        self.vertices = vertices\n",
    "        self.adjacency_list = [[] for _ in range(vertices)]\n",
    "    \n",
    "    def add_edge(self, source, destination):\n",
    "        self.adjacency_list[source].append(destination)\n",
    "    \n",
    "    def is_cyclic(self):\n",
    "        visited = [False] * self.vertices\n",
    "        recursion_stack = [False] * self.vertices\n",
    "\n",
    "        for vertex in range(self.vertices):\n",
    "            if self._is_cyclic_util(vertex, visited, recursion_stack):\n",
    "                return True\n",
    "        \n",
    "        return False\n",
    "    \n",
    "    def _is_cyclic_util(self, current_vertex, visited, recursion_stack):\n",
    "        visited[current_vertex] = True\n",
    "        recursion_stack[current_vertex] = True\n",
    "\n",
    "        for adjacent_vertex in self.adjacency_list[current_vertex]:\n",
    "            if not visited[adjacent_vertex]:\n",
    "                if self._is_cyclic_util(adjacent_vertex, visited, recursion_stack):\n",
    "                    return True\n",
    "            elif recursion_stack[adjacent_vertex]:\n",
    "                return True\n",
    "        \n",
    "        recursion_stack[current_vertex] = False\n",
    "        return False\n",
    "\n",
    "# Testing detect cycle in a directed graph\n",
    "graph = Graph(4)\n",
    "graph.add_edge(0, 1)\n",
    "graph.add_edge(1, 2)\n",
    "graph.add_edge(2, 3)\n",
    "graph.add_edge(3, 1)\n",
    "\n",
    "has_cycle = graph.is_cyclic()\n",
    "if has_cycle:\n",
    "    print(\"The graph contains a cycle.\")\n",
    "else:\n",
    "    print(\"The graph does not contain a cycle.\")\n"
   ]
  },
  {
   "attachments": {},
   "cell_type": "markdown",
   "metadata": {},
   "source": [
    "#Implement n-Queen’s Problem:"
   ]
  },
  {
   "cell_type": "code",
   "execution_count": 32,
   "metadata": {},
   "outputs": [
    {
     "name": "stdout",
     "output_type": "stream",
     "text": [
      "Solutions for 4 queens:\n",
      ".Q..\n",
      "...Q\n",
      "Q...\n",
      "..Q.\n",
      "\n",
      "..Q.\n",
      "Q...\n",
      "...Q\n",
      ".Q..\n",
      "\n"
     ]
    }
   ],
   "source": [
    "def solve_n_queens(n):\n",
    "    board = [['.' for _ in range(n)] for _ in range(n)]\n",
    "    solutions = []\n",
    "\n",
    "    def is_safe(row, col):\n",
    "        for i in range(row):\n",
    "            if board[i][col] == 'Q':\n",
    "                return False\n",
    "        \n",
    "        for i, j in zip(range(row, -1, -1), range(col, -1, -1)):\n",
    "            if board[i][j] == 'Q':\n",
    "                return False\n",
    "        \n",
    "        for i, j in zip(range(row, -1, -1), range(col, n)):\n",
    "            if board[i][j] == 'Q':\n",
    "                return False\n",
    "        \n",
    "        return True\n",
    "    \n",
    "    def backtrack(row):\n",
    "        if row == n:\n",
    "            solution = [''.join(row) for row in board]\n",
    "            solutions.append(solution)\n",
    "            return\n",
    "        \n",
    "        for col in range(n):\n",
    "            if is_safe(row, col):\n",
    "                board[row][col] = 'Q'\n",
    "                backtrack(row + 1)\n",
    "                board[row][col] = '.'\n",
    "\n",
    "    backtrack(0)\n",
    "    return solutions\n",
    "\n",
    "# Testing n-Queen's Problem\n",
    "n = 4\n",
    "solutions = solve_n_queens(n)\n",
    "print(\"Solutions for\", n, \"queens:\")\n",
    "for solution in solutions:\n",
    "    for row in solution:\n",
    "        print(row)\n",
    "    print()\n"
   ]
  }
 ],
 "metadata": {
  "kernelspec": {
   "display_name": "Python 3",
   "language": "python",
   "name": "python3"
  },
  "language_info": {
   "codemirror_mode": {
    "name": "ipython",
    "version": 3
   },
   "file_extension": ".py",
   "mimetype": "text/x-python",
   "name": "python",
   "nbconvert_exporter": "python",
   "pygments_lexer": "ipython3",
   "version": "3.11.4"
  },
  "orig_nbformat": 4
 },
 "nbformat": 4,
 "nbformat_minor": 2
}
